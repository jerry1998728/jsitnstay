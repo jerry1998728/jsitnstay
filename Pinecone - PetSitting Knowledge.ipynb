{
 "cells": [
  {
   "cell_type": "code",
   "execution_count": 23,
   "id": "6b953e5a-b26e-4571-88ef-ae42e2ddcbff",
   "metadata": {},
   "outputs": [],
   "source": [
    "from openai import OpenAI\n",
    "from pathlib import Path\n",
    "import pinecone as pc\n",
    "from uuid import uuid4\n",
    "from pinecone import Pinecone as pc, ServerlessSpec\n",
    "import openai\n",
    "import re\n",
    "\n"
   ]
  },
  {
   "cell_type": "code",
   "execution_count": 24,
   "id": "33e5e899-5f42-498e-b8ef-96d24d029cfc",
   "metadata": {},
   "outputs": [],
   "source": [
    "pc = pc(api_key=\"placeholder\")\n",
    "try:\n",
    "    #Create Pincone Index\n",
    "    pc.create_index(\n",
    "                    #Using the name of the Index\n",
    "                    name=\"petsittingknowledge\",\n",
    "                    #With model dimension\n",
    "                    dimension=1536,\n",
    "                    #With cosine metric\n",
    "                    metric=\"cosine\",\n",
    "                    #Wtih customized spec\n",
    "                    spec=ServerlessSpec(\n",
    "                                        cloud=\"aws\",\n",
    "                                        region=\"us-east-1\"\n",
    "                                        ) \n",
    "                    )\n",
    "except:\n",
    "    print(\"No need, Index Already Exists\")\n",
    "#Initialize Pinecone Index Object\n",
    "index = pc.Index(\"petsittingknowledge\") "
   ]
  },
  {
   "cell_type": "code",
   "execution_count": 26,
   "id": "a57c9667-20f1-4300-8f2e-34317219993b",
   "metadata": {},
   "outputs": [
    {
     "name": "stdout",
     "output_type": "stream",
     "text": [
      "✅ Split into 8 sections.\n",
      "✅ Successfully upserted 8 sections to Pinecone with metadata.\n"
     ]
    }
   ],
   "source": [
    "#Load Knowledge Base\n",
    "with open(\"/Users/Jerry/Desktop/Rover/Assistant/j_sit_and_stay_knowledge.txt\", \"r\") as f:\n",
    "    text = f.read()\n",
    "\n",
    "#Section-Based Chunking\n",
    "pattern = r\"(===.*?===)\"\n",
    "sections = re.split(pattern, text)\n",
    "\n",
    "chunks = []\n",
    "for i in range(1, len(sections), 2):\n",
    "    title = sections[i].strip(\"= \\n\")\n",
    "    content = sections[i + 1].strip()\n",
    "    combined = f\"{title}\\n{content}\"\n",
    "    chunks.append((title, combined))\n",
    "\n",
    "print(f\"Split into {len(chunks)} sections.\")\n",
    "\n",
    "#Embedding + Upsert\n",
    "vectors = []\n",
    "for title, chunk in chunks:\n",
    "    if chunk.strip():\n",
    "        # Call embedding\n",
    "        response = client.embeddings.create(\n",
    "            input=chunk,\n",
    "            model=\"text-embedding-ada-002\"\n",
    "        )\n",
    "        vector = response.data[0].embedding\n",
    "\n",
    "        # Add metadata only for pricing\n",
    "        metadata = {\"section\": title, \"text\": chunk.strip()}\n",
    "        if \"Pricing\" in title:\n",
    "            metadata[\"type\"] = \"pricing\"\n",
    "\n",
    "        vectors.append({\n",
    "            \"id\": str(uuid4()),\n",
    "            \"values\": vector,\n",
    "            \"metadata\": metadata\n",
    "        })\n",
    "\n",
    "#Upsert data and vectors into Pinecone\n",
    "index.upsert(vectors=vectors)\n",
    "print(f\"Successfully upserted {len(vectors)} sections to Pinecone with metadata.\")"
   ]
  },
  {
   "cell_type": "code",
   "execution_count": 37,
   "id": "71e24fbc-d2c8-46a6-a6b8-ede14da8b541",
   "metadata": {},
   "outputs": [
    {
     "name": "stdout",
     "output_type": "stream",
     "text": [
      "Pricing Information\n",
      "*All pricing is night-based. Holiday rate is applied throughout the stay.*\n",
      "\n",
      "Cat Rates:\n",
      "- First Timer, Regular: $50\n",
      "- First Timer, Holiday: $55\n",
      "- Returning, Regular: $40\n",
      "- Returning, Holiday: $45\n",
      "\n",
      "Dog Rates:\n",
      "- First Timer, Regular: $60\n",
      "- First Timer, Holiday: $65\n",
      "- Returning, Regular: $50\n",
      "- Returning, Holiday: $55\n"
     ]
    }
   ],
   "source": [
    "query = \"How much is dog's rate\"\n",
    "query_embedding = client.embeddings.create(input=query, model=\"text-embedding-ada-002\").data[0].embedding\n",
    "results = index.query(vector=query_embedding, top_k=1, include_metadata=True)\n",
    "\n",
    "for match in results[\"matches\"]:\n",
    "    print(match[\"metadata\"][\"text\"])"
   ]
  },
  {
   "cell_type": "code",
   "execution_count": null,
   "id": "32542911-e6d5-4ca9-899a-97fd66756e98",
   "metadata": {},
   "outputs": [],
   "source": []
  },
  {
   "cell_type": "code",
   "execution_count": null,
   "id": "4593ba51-2277-4c5c-812d-e2c629ff3440",
   "metadata": {},
   "outputs": [],
   "source": []
  }
 ],
 "metadata": {
  "kernelspec": {
   "display_name": "Python [conda env:base]",
   "language": "python",
   "name": "conda-base-py"
  },
  "language_info": {
   "codemirror_mode": {
    "name": "ipython",
    "version": 3
   },
   "file_extension": ".py",
   "mimetype": "text/x-python",
   "name": "python",
   "nbconvert_exporter": "python",
   "pygments_lexer": "ipython3",
   "version": "3.8.20"
  }
 },
 "nbformat": 4,
 "nbformat_minor": 5
}
